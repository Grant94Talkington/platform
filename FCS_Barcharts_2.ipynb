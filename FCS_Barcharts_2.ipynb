{
 "cells": [
  {
   "cell_type": "code",
   "execution_count": 7,
   "metadata": {},
   "outputs": [
    {
     "ename": "KeyError",
     "evalue": "0",
     "output_type": "error",
     "traceback": [
      "\u001b[0;31m---------------------------------------------------------------------------\u001b[0m",
      "\u001b[0;31mKeyError\u001b[0m                                  Traceback (most recent call last)",
      "File \u001b[0;32m~/opt/anaconda3/lib/python3.9/site-packages/pandas/core/indexes/base.py:3621\u001b[0m, in \u001b[0;36mIndex.get_loc\u001b[0;34m(self, key, method, tolerance)\u001b[0m\n\u001b[1;32m   3620\u001b[0m \u001b[39mtry\u001b[39;00m:\n\u001b[0;32m-> 3621\u001b[0m     \u001b[39mreturn\u001b[39;00m \u001b[39mself\u001b[39;49m\u001b[39m.\u001b[39;49m_engine\u001b[39m.\u001b[39;49mget_loc(casted_key)\n\u001b[1;32m   3622\u001b[0m \u001b[39mexcept\u001b[39;00m \u001b[39mKeyError\u001b[39;00m \u001b[39mas\u001b[39;00m err:\n",
      "File \u001b[0;32m~/opt/anaconda3/lib/python3.9/site-packages/pandas/_libs/index.pyx:136\u001b[0m, in \u001b[0;36mpandas._libs.index.IndexEngine.get_loc\u001b[0;34m()\u001b[0m\n",
      "File \u001b[0;32m~/opt/anaconda3/lib/python3.9/site-packages/pandas/_libs/index.pyx:163\u001b[0m, in \u001b[0;36mpandas._libs.index.IndexEngine.get_loc\u001b[0;34m()\u001b[0m\n",
      "File \u001b[0;32mpandas/_libs/hashtable_class_helper.pxi:5198\u001b[0m, in \u001b[0;36mpandas._libs.hashtable.PyObjectHashTable.get_item\u001b[0;34m()\u001b[0m\n",
      "File \u001b[0;32mpandas/_libs/hashtable_class_helper.pxi:5206\u001b[0m, in \u001b[0;36mpandas._libs.hashtable.PyObjectHashTable.get_item\u001b[0;34m()\u001b[0m\n",
      "\u001b[0;31mKeyError\u001b[0m: 0",
      "\nThe above exception was the direct cause of the following exception:\n",
      "\u001b[0;31mKeyError\u001b[0m                                  Traceback (most recent call last)",
      "\u001b[1;32m/Users/granttalkington/Desktop/Coding_shit/Python_Projects/FCSfilereader/FCS_Barcharts_2.ipynb Cell 1\u001b[0m in \u001b[0;36m<cell line: 38>\u001b[0;34m()\u001b[0m\n\u001b[1;32m     <a href='vscode-notebook-cell:/Users/granttalkington/Desktop/Coding_shit/Python_Projects/FCSfilereader/FCS_Barcharts_2.ipynb#W0sZmlsZQ%3D%3D?line=35'>36</a>\u001b[0m fcs_file \u001b[39m=\u001b[39m \u001b[39m'\u001b[39m\u001b[39m/Users/granttalkington/Desktop/Coding_shit/Python_Projects/FCSfilereader/unstained.fcs\u001b[39m\u001b[39m'\u001b[39m\n\u001b[1;32m     <a href='vscode-notebook-cell:/Users/granttalkington/Desktop/Coding_shit/Python_Projects/FCSfilereader/FCS_Barcharts_2.ipynb#W0sZmlsZQ%3D%3D?line=36'>37</a>\u001b[0m output_dir \u001b[39m=\u001b[39m \u001b[39m'\u001b[39m\u001b[39m/Users/granttalkington/Desktop/Coding_shit/Python_Projects/FCSfilereader\u001b[39m\u001b[39m'\u001b[39m\n\u001b[0;32m---> <a href='vscode-notebook-cell:/Users/granttalkington/Desktop/Coding_shit/Python_Projects/FCSfilereader/FCS_Barcharts_2.ipynb#W0sZmlsZQ%3D%3D?line=37'>38</a>\u001b[0m fcs_to_barchart(fcs_file, output_dir)\n",
      "\u001b[1;32m/Users/granttalkington/Desktop/Coding_shit/Python_Projects/FCSfilereader/FCS_Barcharts_2.ipynb Cell 1\u001b[0m in \u001b[0;36mfcs_to_barchart\u001b[0;34m(fcs_file, output_dir)\u001b[0m\n\u001b[1;32m     <a href='vscode-notebook-cell:/Users/granttalkington/Desktop/Coding_shit/Python_Projects/FCSfilereader/FCS_Barcharts_2.ipynb#W0sZmlsZQ%3D%3D?line=12'>13</a>\u001b[0m \u001b[39m# Plot bar chart for each event\u001b[39;00m\n\u001b[1;32m     <a href='vscode-notebook-cell:/Users/granttalkington/Desktop/Coding_shit/Python_Projects/FCSfilereader/FCS_Barcharts_2.ipynb#W0sZmlsZQ%3D%3D?line=13'>14</a>\u001b[0m \u001b[39mfor\u001b[39;00m event_idx \u001b[39min\u001b[39;00m \u001b[39mrange\u001b[39m(events\u001b[39m.\u001b[39mshape[\u001b[39m0\u001b[39m]):\n\u001b[1;32m     <a href='vscode-notebook-cell:/Users/granttalkington/Desktop/Coding_shit/Python_Projects/FCSfilereader/FCS_Barcharts_2.ipynb#W0sZmlsZQ%3D%3D?line=14'>15</a>\u001b[0m     \u001b[39m# Get cell type from FCS file\u001b[39;00m\n\u001b[1;32m     <a href='vscode-notebook-cell:/Users/granttalkington/Desktop/Coding_shit/Python_Projects/FCSfilereader/FCS_Barcharts_2.ipynb#W0sZmlsZQ%3D%3D?line=15'>16</a>\u001b[0m     \u001b[39m#cell_type = data.meta['name'][event_idx]\u001b[39;00m\n\u001b[1;32m     <a href='vscode-notebook-cell:/Users/granttalkington/Desktop/Coding_shit/Python_Projects/FCSfilereader/FCS_Barcharts_2.ipynb#W0sZmlsZQ%3D%3D?line=16'>17</a>\u001b[0m \n\u001b[1;32m     <a href='vscode-notebook-cell:/Users/granttalkington/Desktop/Coding_shit/Python_Projects/FCSfilereader/FCS_Barcharts_2.ipynb#W0sZmlsZQ%3D%3D?line=17'>18</a>\u001b[0m     \u001b[39m# Calculate mean values for each channel\u001b[39;00m\n\u001b[0;32m---> <a href='vscode-notebook-cell:/Users/granttalkington/Desktop/Coding_shit/Python_Projects/FCSfilereader/FCS_Barcharts_2.ipynb#W0sZmlsZQ%3D%3D?line=18'>19</a>\u001b[0m     channel_means \u001b[39m=\u001b[39m events[event_idx]\u001b[39m.\u001b[39mmean(axis\u001b[39m=\u001b[39m\u001b[39m0\u001b[39m)\n\u001b[1;32m     <a href='vscode-notebook-cell:/Users/granttalkington/Desktop/Coding_shit/Python_Projects/FCSfilereader/FCS_Barcharts_2.ipynb#W0sZmlsZQ%3D%3D?line=20'>21</a>\u001b[0m     \u001b[39m# Plot bar chart\u001b[39;00m\n\u001b[1;32m     <a href='vscode-notebook-cell:/Users/granttalkington/Desktop/Coding_shit/Python_Projects/FCSfilereader/FCS_Barcharts_2.ipynb#W0sZmlsZQ%3D%3D?line=21'>22</a>\u001b[0m     fig, ax \u001b[39m=\u001b[39m plt\u001b[39m.\u001b[39msubplots()\n",
      "File \u001b[0;32m~/opt/anaconda3/lib/python3.9/site-packages/pandas/core/frame.py:3505\u001b[0m, in \u001b[0;36mDataFrame.__getitem__\u001b[0;34m(self, key)\u001b[0m\n\u001b[1;32m   3503\u001b[0m \u001b[39mif\u001b[39;00m \u001b[39mself\u001b[39m\u001b[39m.\u001b[39mcolumns\u001b[39m.\u001b[39mnlevels \u001b[39m>\u001b[39m \u001b[39m1\u001b[39m:\n\u001b[1;32m   3504\u001b[0m     \u001b[39mreturn\u001b[39;00m \u001b[39mself\u001b[39m\u001b[39m.\u001b[39m_getitem_multilevel(key)\n\u001b[0;32m-> 3505\u001b[0m indexer \u001b[39m=\u001b[39m \u001b[39mself\u001b[39;49m\u001b[39m.\u001b[39;49mcolumns\u001b[39m.\u001b[39;49mget_loc(key)\n\u001b[1;32m   3506\u001b[0m \u001b[39mif\u001b[39;00m is_integer(indexer):\n\u001b[1;32m   3507\u001b[0m     indexer \u001b[39m=\u001b[39m [indexer]\n",
      "File \u001b[0;32m~/opt/anaconda3/lib/python3.9/site-packages/pandas/core/indexes/base.py:3623\u001b[0m, in \u001b[0;36mIndex.get_loc\u001b[0;34m(self, key, method, tolerance)\u001b[0m\n\u001b[1;32m   3621\u001b[0m     \u001b[39mreturn\u001b[39;00m \u001b[39mself\u001b[39m\u001b[39m.\u001b[39m_engine\u001b[39m.\u001b[39mget_loc(casted_key)\n\u001b[1;32m   3622\u001b[0m \u001b[39mexcept\u001b[39;00m \u001b[39mKeyError\u001b[39;00m \u001b[39mas\u001b[39;00m err:\n\u001b[0;32m-> 3623\u001b[0m     \u001b[39mraise\u001b[39;00m \u001b[39mKeyError\u001b[39;00m(key) \u001b[39mfrom\u001b[39;00m \u001b[39merr\u001b[39;00m\n\u001b[1;32m   3624\u001b[0m \u001b[39mexcept\u001b[39;00m \u001b[39mTypeError\u001b[39;00m:\n\u001b[1;32m   3625\u001b[0m     \u001b[39m# If we have a listlike key, _check_indexing_error will raise\u001b[39;00m\n\u001b[1;32m   3626\u001b[0m     \u001b[39m#  InvalidIndexError. Otherwise we fall through and re-raise\u001b[39;00m\n\u001b[1;32m   3627\u001b[0m     \u001b[39m#  the TypeError.\u001b[39;00m\n\u001b[1;32m   3628\u001b[0m     \u001b[39mself\u001b[39m\u001b[39m.\u001b[39m_check_indexing_error(key)\n",
      "\u001b[0;31mKeyError\u001b[0m: 0"
     ]
    }
   ],
   "source": [
    "import FlowCytometryTools\n",
    "import matplotlib.pyplot as plt\n",
    "import os\n",
    "\n",
    "def fcs_to_barchart(fcs_file, output_dir):\n",
    "    # Load FCS file\n",
    "    data = FlowCytometryTools.FCMeasurement(ID='test', datafile=fcs_file)\n",
    "\n",
    "    # Extract events and channels\n",
    "    events = data.data\n",
    "    channels = data.channels\n",
    "\n",
    "    # Plot bar chart for each event\n",
    "    for event_idx in range(events.shape[0]):\n",
    "        # Get cell type from FCS file\n",
    "        #cell_type = data.meta['name'][event_idx]\n",
    "\n",
    "        # Calculate mean values for each channel\n",
    "        channel_means = events[event_idx].mean(axis=0)\n",
    "\n",
    "        # Plot bar chart\n",
    "        fig, ax = plt.subplots()\n",
    "        ax.bar(channels, channel_means)\n",
    "        ax.set_title(f'Cell Type: {cell_type}')\n",
    "        ax.set_xlabel('Channel')\n",
    "        ax.set_ylabel('Mean Value')\n",
    "\n",
    "        # Save plot as PNG image with cell number and type in filename\n",
    "        filename = f'cell{event_idx}_type{cell_type}.png'\n",
    "        filepath = os.path.join(output_dir, filename)\n",
    "        plt.savefig(filepath)\n",
    "\n",
    "        # Close plot\n",
    "        plt.close(fig)\n",
    "\n",
    "fcs_file = '/Users/granttalkington/Desktop/Coding_shit/Python_Projects/FCSfilereader/unstained.fcs'\n",
    "output_dir = '/Users/granttalkington/Desktop/Coding_shit/Python_Projects/FCSfilereader'\n",
    "fcs_to_barchart(fcs_file, output_dir)\n"
   ]
  }
 ],
 "metadata": {
  "kernelspec": {
   "display_name": "Python 3.9.12 ('base')",
   "language": "python",
   "name": "python3"
  },
  "language_info": {
   "codemirror_mode": {
    "name": "ipython",
    "version": 3
   },
   "file_extension": ".py",
   "mimetype": "text/x-python",
   "name": "python",
   "nbconvert_exporter": "python",
   "pygments_lexer": "ipython3",
   "version": "3.9.12"
  },
  "orig_nbformat": 4,
  "vscode": {
   "interpreter": {
    "hash": "6e684884f21391a7f30dacdca3fe224656369e5b0a0f0876aced7d43edeb3a03"
   }
  }
 },
 "nbformat": 4,
 "nbformat_minor": 2
}
