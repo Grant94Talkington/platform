{
 "cells": [
  {
   "cell_type": "code",
   "execution_count": 1,
   "metadata": {},
   "outputs": [
    {
     "ename": "FileNotFoundError",
     "evalue": "[Errno 2] No such file or directory: '/Users/granttalkington/Desktop/Coding shit/Python_Projects/FCSfilereader/B8_Unstained_(Cells).fcs'",
     "output_type": "error",
     "traceback": [
      "\u001b[0;31m---------------------------------------------------------------------------\u001b[0m",
      "\u001b[0;31mFileNotFoundError\u001b[0m                         Traceback (most recent call last)",
      "\u001b[1;32m/Users/granttalkington/Desktop/Coding_shit/Python_Projects/FCSfilereader/FCS_Barcharts_2.ipynb Cell 1\u001b[0m in \u001b[0;36m<cell line: 38>\u001b[0;34m()\u001b[0m\n\u001b[1;32m     <a href='vscode-notebook-cell:/Users/granttalkington/Desktop/Coding_shit/Python_Projects/FCSfilereader/FCS_Barcharts_2.ipynb#W1sZmlsZQ%3D%3D?line=35'>36</a>\u001b[0m fcs_file \u001b[39m=\u001b[39m \u001b[39m'\u001b[39m\u001b[39m/Users/granttalkington/Desktop/Coding shit/Python_Projects/FCSfilereader/B8_Unstained_(Cells).fcs\u001b[39m\u001b[39m'\u001b[39m\n\u001b[1;32m     <a href='vscode-notebook-cell:/Users/granttalkington/Desktop/Coding_shit/Python_Projects/FCSfilereader/FCS_Barcharts_2.ipynb#W1sZmlsZQ%3D%3D?line=36'>37</a>\u001b[0m output_dir \u001b[39m=\u001b[39m \u001b[39m'\u001b[39m\u001b[39mUsers/granttalkington/Desktop/Coding_shit/Python_Projects/FCSfilereader\u001b[39m\u001b[39m'\u001b[39m\n\u001b[0;32m---> <a href='vscode-notebook-cell:/Users/granttalkington/Desktop/Coding_shit/Python_Projects/FCSfilereader/FCS_Barcharts_2.ipynb#W1sZmlsZQ%3D%3D?line=37'>38</a>\u001b[0m fcs_to_barchart(fcs_file, output_dir)\n",
      "\u001b[1;32m/Users/granttalkington/Desktop/Coding_shit/Python_Projects/FCSfilereader/FCS_Barcharts_2.ipynb Cell 1\u001b[0m in \u001b[0;36mfcs_to_barchart\u001b[0;34m(fcs_file, output_dir)\u001b[0m\n\u001b[1;32m      <a href='vscode-notebook-cell:/Users/granttalkington/Desktop/Coding_shit/Python_Projects/FCSfilereader/FCS_Barcharts_2.ipynb#W1sZmlsZQ%3D%3D?line=4'>5</a>\u001b[0m \u001b[39mdef\u001b[39;00m \u001b[39mfcs_to_barchart\u001b[39m(fcs_file, output_dir):\n\u001b[1;32m      <a href='vscode-notebook-cell:/Users/granttalkington/Desktop/Coding_shit/Python_Projects/FCSfilereader/FCS_Barcharts_2.ipynb#W1sZmlsZQ%3D%3D?line=5'>6</a>\u001b[0m     \u001b[39m# Load FCS file\u001b[39;00m\n\u001b[0;32m----> <a href='vscode-notebook-cell:/Users/granttalkington/Desktop/Coding_shit/Python_Projects/FCSfilereader/FCS_Barcharts_2.ipynb#W1sZmlsZQ%3D%3D?line=6'>7</a>\u001b[0m     data \u001b[39m=\u001b[39m FlowCytometryTools\u001b[39m.\u001b[39;49mFCMeasurement(ID\u001b[39m=\u001b[39;49m\u001b[39m'\u001b[39;49m\u001b[39mtest\u001b[39;49m\u001b[39m'\u001b[39;49m, datafile\u001b[39m=\u001b[39;49mfcs_file)\n\u001b[1;32m      <a href='vscode-notebook-cell:/Users/granttalkington/Desktop/Coding_shit/Python_Projects/FCSfilereader/FCS_Barcharts_2.ipynb#W1sZmlsZQ%3D%3D?line=8'>9</a>\u001b[0m     \u001b[39m# Extract events and channels\u001b[39;00m\n\u001b[1;32m     <a href='vscode-notebook-cell:/Users/granttalkington/Desktop/Coding_shit/Python_Projects/FCSfilereader/FCS_Barcharts_2.ipynb#W1sZmlsZQ%3D%3D?line=9'>10</a>\u001b[0m     events \u001b[39m=\u001b[39m data\u001b[39m.\u001b[39mdata\n",
      "File \u001b[0;32m~/opt/anaconda3/lib/python3.9/site-packages/FlowCytometryTools/core/bases.py:169\u001b[0m, in \u001b[0;36mMeasurement.__init__\u001b[0;34m(self, ID, datafile, readdata, readdata_kwargs, metafile, readmeta, readmeta_kwargs)\u001b[0m\n\u001b[1;32m    167\u001b[0m \u001b[39mself\u001b[39m\u001b[39m.\u001b[39mreadmeta_kwargs \u001b[39m=\u001b[39m readmeta_kwargs\n\u001b[1;32m    168\u001b[0m \u001b[39mif\u001b[39;00m readdata: \u001b[39mself\u001b[39m\u001b[39m.\u001b[39mset_data()\n\u001b[0;32m--> 169\u001b[0m \u001b[39mif\u001b[39;00m readmeta: \u001b[39mself\u001b[39;49m\u001b[39m.\u001b[39;49mset_meta()\n\u001b[1;32m    170\u001b[0m \u001b[39mself\u001b[39m\u001b[39m.\u001b[39mposition \u001b[39m=\u001b[39m {}\n\u001b[1;32m    171\u001b[0m \u001b[39mself\u001b[39m\u001b[39m.\u001b[39mhistory \u001b[39m=\u001b[39m []\n",
      "File \u001b[0;32m~/opt/anaconda3/lib/python3.9/site-packages/FlowCytometryTools/core/bases.py:250\u001b[0m, in \u001b[0;36mMeasurement.set_meta\u001b[0;34m(self, meta, **kwargs)\u001b[0m\n\u001b[1;32m    245\u001b[0m \u001b[39m\"\"\"\u001b[39;00m\n\u001b[1;32m    246\u001b[0m \u001b[39mAssign values to self.meta.\u001b[39;00m\n\u001b[1;32m    247\u001b[0m \u001b[39mMeta is not returned\u001b[39;00m\n\u001b[1;32m    248\u001b[0m \u001b[39m\"\"\"\u001b[39;00m\n\u001b[1;32m    249\u001b[0m \u001b[39mif\u001b[39;00m meta \u001b[39mis\u001b[39;00m \u001b[39mNone\u001b[39;00m:\n\u001b[0;32m--> 250\u001b[0m     meta \u001b[39m=\u001b[39m \u001b[39mself\u001b[39;49m\u001b[39m.\u001b[39;49mget_meta(\u001b[39m*\u001b[39;49m\u001b[39m*\u001b[39;49mkwargs)\n\u001b[1;32m    251\u001b[0m \u001b[39msetattr\u001b[39m(\u001b[39mself\u001b[39m, \u001b[39m'\u001b[39m\u001b[39m_meta\u001b[39m\u001b[39m'\u001b[39m, meta)\n",
      "File \u001b[0;32m~/opt/anaconda3/lib/python3.9/site-packages/FlowCytometryTools/core/bases.py:290\u001b[0m, in \u001b[0;36mMeasurement.get_meta\u001b[0;34m(self, **kwargs)\u001b[0m\n\u001b[1;32m    285\u001b[0m \u001b[39mdef\u001b[39;00m \u001b[39mget_meta\u001b[39m(\u001b[39mself\u001b[39m, \u001b[39m*\u001b[39m\u001b[39m*\u001b[39mkwargs):\n\u001b[1;32m    286\u001b[0m     \u001b[39m\"\"\"\u001b[39;00m\n\u001b[1;32m    287\u001b[0m \u001b[39m    Get the measurement metadata.\u001b[39;00m\n\u001b[1;32m    288\u001b[0m \u001b[39m    If not metadata is not set, read from 'self.metafile' using 'self.read_meta'.\u001b[39;00m\n\u001b[1;32m    289\u001b[0m \u001b[39m    \"\"\"\u001b[39;00m\n\u001b[0;32m--> 290\u001b[0m     \u001b[39mreturn\u001b[39;00m \u001b[39mself\u001b[39;49m\u001b[39m.\u001b[39;49m_get_attr_from_file(\u001b[39m'\u001b[39;49m\u001b[39mmeta\u001b[39;49m\u001b[39m'\u001b[39;49m, \u001b[39m*\u001b[39;49m\u001b[39m*\u001b[39;49mkwargs)\n",
      "File \u001b[0;32m~/opt/anaconda3/lib/python3.9/site-packages/FlowCytometryTools/core/bases.py:271\u001b[0m, in \u001b[0;36mMeasurement._get_attr_from_file\u001b[0;34m(self, name, **kwargs)\u001b[0m\n\u001b[1;32m    269\u001b[0m \u001b[39melse\u001b[39;00m:\n\u001b[1;32m    270\u001b[0m     parser_kwargs \u001b[39m=\u001b[39m \u001b[39mgetattr\u001b[39m(\u001b[39mself\u001b[39m, \u001b[39m'\u001b[39m\u001b[39mread\u001b[39m\u001b[39m%s\u001b[39;00m\u001b[39m_kwargs\u001b[39m\u001b[39m'\u001b[39m \u001b[39m%\u001b[39m name, {})\n\u001b[0;32m--> 271\u001b[0m     value \u001b[39m=\u001b[39m \u001b[39mgetattr\u001b[39;49m(\u001b[39mself\u001b[39;49m, \u001b[39m'\u001b[39;49m\u001b[39mread_\u001b[39;49m\u001b[39m%s\u001b[39;49;00m\u001b[39m'\u001b[39;49m \u001b[39m%\u001b[39;49m name)(\u001b[39m*\u001b[39;49m\u001b[39m*\u001b[39;49mparser_kwargs)\n\u001b[1;32m    272\u001b[0m \u001b[39mreturn\u001b[39;00m value\n",
      "File \u001b[0;32m~/opt/anaconda3/lib/python3.9/site-packages/FlowCytometryTools/core/containers.py:66\u001b[0m, in \u001b[0;36mFCMeasurement.read_meta\u001b[0;34m(self, **kwargs)\u001b[0m\n\u001b[1;32m     64\u001b[0m \u001b[39mif\u001b[39;00m \u001b[39m'\u001b[39m\u001b[39mchannel_naming\u001b[39m\u001b[39m'\u001b[39m \u001b[39min\u001b[39;00m \u001b[39mself\u001b[39m\u001b[39m.\u001b[39mreaddata_kwargs:\n\u001b[1;32m     65\u001b[0m     kwargs[\u001b[39m'\u001b[39m\u001b[39mchannel_naming\u001b[39m\u001b[39m'\u001b[39m] \u001b[39m=\u001b[39m \u001b[39mself\u001b[39m\u001b[39m.\u001b[39mreaddata_kwargs[\u001b[39m'\u001b[39m\u001b[39mchannel_naming\u001b[39m\u001b[39m'\u001b[39m]\n\u001b[0;32m---> 66\u001b[0m meta \u001b[39m=\u001b[39m parse_fcs(\u001b[39mself\u001b[39;49m\u001b[39m.\u001b[39;49mdatafile,\n\u001b[1;32m     67\u001b[0m                  reformat_meta\u001b[39m=\u001b[39;49m\u001b[39mTrue\u001b[39;49;00m,\n\u001b[1;32m     68\u001b[0m                  meta_data_only\u001b[39m=\u001b[39;49m\u001b[39mTrue\u001b[39;49;00m, \u001b[39m*\u001b[39;49m\u001b[39m*\u001b[39;49mkwargs)\n\u001b[1;32m     69\u001b[0m \u001b[39mreturn\u001b[39;00m meta\n",
      "File \u001b[0;32m~/opt/anaconda3/lib/python3.9/site-packages/fcsparser/api.py:668\u001b[0m, in \u001b[0;36mparse\u001b[0;34m(path, meta_data_only, compensate, channel_naming, reformat_meta, data_set, dtype, encoding)\u001b[0m\n\u001b[1;32m    664\u001b[0m     \u001b[39mraise\u001b[39;00m ParserFeatureNotImplementedError(\u001b[39mu\u001b[39m\u001b[39m'\u001b[39m\u001b[39mCompensation has not been implemented yet.\u001b[39m\u001b[39m'\u001b[39m)\n\u001b[1;32m    666\u001b[0m read_data \u001b[39m=\u001b[39m \u001b[39mnot\u001b[39;00m meta_data_only\n\u001b[0;32m--> 668\u001b[0m fcs_parser \u001b[39m=\u001b[39m FCSParser(path, read_data\u001b[39m=\u001b[39;49mread_data, channel_naming\u001b[39m=\u001b[39;49mchannel_naming,\n\u001b[1;32m    669\u001b[0m                        data_set\u001b[39m=\u001b[39;49mdata_set, encoding\u001b[39m=\u001b[39;49mencoding)\n\u001b[1;32m    671\u001b[0m \u001b[39mif\u001b[39;00m reformat_meta:\n\u001b[1;32m    672\u001b[0m     fcs_parser\u001b[39m.\u001b[39mreformat_meta()\n",
      "File \u001b[0;32m~/opt/anaconda3/lib/python3.9/site-packages/fcsparser/api.py:184\u001b[0m, in \u001b[0;36mFCSParser.__init__\u001b[0;34m(self, path, read_data, channel_naming, data_set, encoding)\u001b[0m\n\u001b[1;32m    181\u001b[0m \u001b[39mself\u001b[39m\u001b[39m.\u001b[39mpath \u001b[39m=\u001b[39m path\n\u001b[1;32m    183\u001b[0m \u001b[39mif\u001b[39;00m path:\n\u001b[0;32m--> 184\u001b[0m     \u001b[39mwith\u001b[39;00m \u001b[39mopen\u001b[39;49m(path, \u001b[39m'\u001b[39;49m\u001b[39mrb\u001b[39;49m\u001b[39m'\u001b[39;49m) \u001b[39mas\u001b[39;00m f:\n\u001b[1;32m    185\u001b[0m         \u001b[39mself\u001b[39m\u001b[39m.\u001b[39mload_file(f, data_set\u001b[39m=\u001b[39mdata_set, read_data\u001b[39m=\u001b[39mread_data)\n",
      "\u001b[0;31mFileNotFoundError\u001b[0m: [Errno 2] No such file or directory: '/Users/granttalkington/Desktop/Coding shit/Python_Projects/FCSfilereader/B8_Unstained_(Cells).fcs'"
     ]
    }
   ],
   "source": [
    "import FlowCytometryTools\n",
    "import matplotlib.pyplot as plt\n",
    "import os\n",
    "\n",
    "def fcs_to_barchart(fcs_file, output_dir):\n",
    "    # Load FCS file\n",
    "    data = FlowCytometryTools.FCMeasurement(ID='test', datafile=fcs_file)\n",
    "\n",
    "    # Extract events and channels\n",
    "    events = data.data\n",
    "    channels = data.channels\n",
    "\n",
    "    # Plot bar chart for each event\n",
    "    for event_idx in range(events.shape[0]):\n",
    "        # Get cell type from FCS file\n",
    "        cell_type = data.meta['name'][event_idx]\n",
    "\n",
    "        # Calculate mean values for each channel\n",
    "        channel_means = events[event_idx].mean(axis=0)\n",
    "\n",
    "        # Plot bar chart\n",
    "        fig, ax = plt.subplots()\n",
    "        ax.bar(channels, channel_means)\n",
    "        ax.set_title(f'Cell Type: {cell_type}')\n",
    "        ax.set_xlabel('Channel')\n",
    "        ax.set_ylabel('Mean Value')\n",
    "\n",
    "        # Save plot as PNG image with cell number and type in filename\n",
    "        filename = f'cell{event_idx}_type{cell_type}.png'\n",
    "        filepath = os.path.join(output_dir, filename)\n",
    "        plt.savefig(filepath)\n",
    "\n",
    "        # Close plot\n",
    "        plt.close(fig)\n",
    "\n",
    "fcs_file = '/Users/granttalkington/Desktop/Coding shit/Python_Projects/FCSfilereader/B8_Unstained_(Cells).fcs'\n",
    "output_dir = 'Users/granttalkington/Desktop/Coding_shit/Python_Projects/FCSfilereader'\n",
    "fcs_to_barchart(fcs_file, output_dir)\n"
   ]
  }
 ],
 "metadata": {
  "kernelspec": {
   "display_name": "Python 3.9.12 ('base')",
   "language": "python",
   "name": "python3"
  },
  "language_info": {
   "codemirror_mode": {
    "name": "ipython",
    "version": 3
   },
   "file_extension": ".py",
   "mimetype": "text/x-python",
   "name": "python",
   "nbconvert_exporter": "python",
   "pygments_lexer": "ipython3",
   "version": "3.9.12"
  },
  "orig_nbformat": 4,
  "vscode": {
   "interpreter": {
    "hash": "6e684884f21391a7f30dacdca3fe224656369e5b0a0f0876aced7d43edeb3a03"
   }
  }
 },
 "nbformat": 4,
 "nbformat_minor": 2
}
